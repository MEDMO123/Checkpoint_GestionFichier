{
 "cells": [
  {
   "cell_type": "code",
   "execution_count": 48,
   "metadata": {},
   "outputs": [],
   "source": [
    "import numpy as np  "
   ]
  },
  {
   "cell_type": "code",
   "execution_count": 55,
   "metadata": {},
   "outputs": [
    {
     "data": {
      "text/plain": [
       "(615, 13)"
      ]
     },
     "execution_count": 55,
     "metadata": {},
     "output_type": "execute_result"
    }
   ],
   "source": [
    "with open('Loan_prediction_dataset.csv',mode='r') as f:\n",
    "    data=np.genfromtxt(f, delimiter=',')#Lecture du fichier avec Numpy\n",
    "data.shape"
   ]
  },
  {
   "cell_type": "code",
   "execution_count": 56,
   "metadata": {},
   "outputs": [
    {
     "data": {
      "text/plain": [
       "(592,)"
      ]
     },
     "execution_count": 56,
     "metadata": {},
     "output_type": "execute_result"
    }
   ],
   "source": [
    "Pret=np.array(data[:,8:9]) #Recuperation de la colonne Montant pret / loanAmount\n",
    "Pret=Pret[~np.isnan(Pret)]# np.isnan (pret) : Filtre de la liste Pret pour reperer les nan avec isnan() / Le ~ permet d'inverser pour recuperer les valeur =! de nan\n",
    "Pret.shape"
   ]
  },
  {
   "cell_type": "code",
   "execution_count": 40,
   "metadata": {},
   "outputs": [
    {
     "name": "stdout",
     "output_type": "stream",
     "text": [
      "La moyenne des prêts est : 146.41216216216216 \n"
     ]
    }
   ],
   "source": [
    "moyenne=np.mean(Pret)\n",
    "print(f\"La moyenne des prêts est : {moyenne} \")"
   ]
  },
  {
   "cell_type": "code",
   "execution_count": 41,
   "metadata": {},
   "outputs": [
    {
     "name": "stdout",
     "output_type": "stream",
     "text": [
      "La mediane des prêts est : 128.0 \n"
     ]
    }
   ],
   "source": [
    "mediane=np.median(Pret)\n",
    "print(f\"La mediane des prêts est : {mediane} \")"
   ]
  },
  {
   "cell_type": "code",
   "execution_count": 43,
   "metadata": {},
   "outputs": [
    {
     "name": "stdout",
     "output_type": "stream",
     "text": [
      "L'ecart-type  des prêts est : 85.51500809120331 \n"
     ]
    }
   ],
   "source": [
    "ect=np.std(Pret)\n",
    "print(f\"L'ecart-type  des prêts est : {ect} \")"
   ]
  },
  {
   "cell_type": "code",
   "execution_count": 46,
   "metadata": {},
   "outputs": [
    {
     "name": "stdout",
     "output_type": "stream",
     "text": [
      "Le maximum des prêts est : 700.0 \n",
      "Le minimum des prêts est : 9.0 \n"
     ]
    }
   ],
   "source": [
    "maximum=np.max(Pret)\n",
    "print(f\"Le maximum des prêts est : {maximum} \")\n",
    "minimum=np.min(Pret)\n",
    "print(f\"Le minimum des prêts est : {minimum} \")"
   ]
  }
 ],
 "metadata": {
  "kernelspec": {
   "display_name": "Python 3",
   "language": "python",
   "name": "python3"
  },
  "language_info": {
   "codemirror_mode": {
    "name": "ipython",
    "version": 3
   },
   "file_extension": ".py",
   "mimetype": "text/x-python",
   "name": "python",
   "nbconvert_exporter": "python",
   "pygments_lexer": "ipython3",
   "version": "3.12.8"
  }
 },
 "nbformat": 4,
 "nbformat_minor": 2
}
